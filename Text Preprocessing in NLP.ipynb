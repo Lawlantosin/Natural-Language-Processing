{
 "cells": [
  {
   "cell_type": "code",
   "execution_count": 11,
   "id": "52fe28c0",
   "metadata": {},
   "outputs": [],
   "source": [
    "import unidecode\n",
    "from nltk.corpus import stopwords\n",
    "from nltk.tokenize import word_tokenize, sent_tokenize\n",
    "from nltk.stem import PorterStemmer, WordNetLemmatizer\n",
    "from bs4 import BeautifulSoup"
   ]
  },
  {
   "cell_type": "code",
   "execution_count": 12,
   "id": "776661c7",
   "metadata": {},
   "outputs": [],
   "source": [
    "text = \"\"\"<p>Text preprocessing is the process of turning a document’s ﬂow of text into the quantiﬁable chunks needed for analysis. \n",
    "The initial step in text preprocessing is text indexing, which is the process of converting a text or texts into a list of words\n",
    ". <br> Since a text or texts are given as unstructured forms by itself or themselves essentially, it's almost impossible to process \n",
    "its raw form directly by using a computer program. <br> In other words, text indexing means the process of segmenting a text which \n",
    "consists of sentences into individual words. <br> Note, this isn't exhaustive.</p>\"\"\"\n"
   ]
  },
  {
   "cell_type": "markdown",
   "id": "62800fdf",
   "metadata": {},
   "source": [
    "### HTML Tags Removal"
   ]
  },
  {
   "cell_type": "code",
   "execution_count": 13,
   "id": "05c0428a",
   "metadata": {},
   "outputs": [],
   "source": [
    "# create an instance of beautiful soup\n",
    "soup = BeautifulSoup(text, 'html.parser')"
   ]
  },
  {
   "cell_type": "code",
   "execution_count": 14,
   "id": "e33ae141",
   "metadata": {},
   "outputs": [],
   "source": [
    "# get the text\n",
    "cleaned_text = soup.get_text()"
   ]
  },
  {
   "cell_type": "code",
   "execution_count": 15,
   "id": "ac8c848a",
   "metadata": {},
   "outputs": [
    {
     "data": {
      "text/plain": [
       "\"Text preprocessing is the process of turning a document’s ﬂow of text into the quantiﬁable chunks needed for analysis. \\nThe initial step in text preprocessing is text indexing, which is the process of converting a text or texts into a list of words\\n.  Since a text or texts are given as unstructured forms by itself or themselves essentially, it's almost impossible to process \\nits raw form directly by using a computer program.  In other words, text indexing means the process of segmenting a text which \\nconsists of sentences into individual words.  Note, this isn't exhaustive.\""
      ]
     },
     "execution_count": 15,
     "metadata": {},
     "output_type": "execute_result"
    }
   ],
   "source": [
    "cleaned_text"
   ]
  },
  {
   "cell_type": "markdown",
   "id": "8fd5f9e2",
   "metadata": {},
   "source": [
    "### Fixing Contractions"
   ]
  },
  {
   "cell_type": "code",
   "execution_count": 16,
   "id": "c94f2e7d",
   "metadata": {},
   "outputs": [],
   "source": [
    "import contractions"
   ]
  },
  {
   "cell_type": "code",
   "execution_count": 17,
   "id": "d3861ed2",
   "metadata": {},
   "outputs": [],
   "source": [
    "# fix the contractions\n",
    "\n",
    "cleaned_text = contractions.fix(cleaned_text)"
   ]
  },
  {
   "cell_type": "code",
   "execution_count": 18,
   "id": "5c3639b9",
   "metadata": {},
   "outputs": [
    {
     "data": {
      "text/plain": [
       "'Text preprocessing is the process of turning a document’s ﬂow of text into the quantiﬁable chunks needed for analysis. \\nThe initial step in text preprocessing is text indexing, which is the process of converting a text or texts into a list of words\\n.  Since a text or texts are given as unstructured forms by itself or themselves essentially, it is almost impossible to process \\nits raw form directly by using a computer program.  In other words, text indexing means the process of segmenting a text which \\nconsists of sentences into individual words.  Note, this is not exhaustive.'"
      ]
     },
     "execution_count": 18,
     "metadata": {},
     "output_type": "execute_result"
    }
   ],
   "source": [
    "cleaned_text"
   ]
  },
  {
   "cell_type": "markdown",
   "id": "c06d3877",
   "metadata": {},
   "source": [
    "### Lowercasing text"
   ]
  },
  {
   "cell_type": "code",
   "execution_count": 19,
   "id": "13f1430d",
   "metadata": {},
   "outputs": [],
   "source": [
    "# convert the text to lower case\n",
    "cleaned_text=cleaned_text.lower()\n"
   ]
  },
  {
   "cell_type": "code",
   "execution_count": 20,
   "id": "d8a87a72",
   "metadata": {},
   "outputs": [
    {
     "data": {
      "text/plain": [
       "'text preprocessing is the process of turning a document’s ﬂow of text into the quantiﬁable chunks needed for analysis. \\nthe initial step in text preprocessing is text indexing, which is the process of converting a text or texts into a list of words\\n.  since a text or texts are given as unstructured forms by itself or themselves essentially, it is almost impossible to process \\nits raw form directly by using a computer program.  in other words, text indexing means the process of segmenting a text which \\nconsists of sentences into individual words.  note, this is not exhaustive.'"
      ]
     },
     "execution_count": 20,
     "metadata": {},
     "output_type": "execute_result"
    }
   ],
   "source": [
    "cleaned_text"
   ]
  },
  {
   "cell_type": "markdown",
   "id": "c3a1412e",
   "metadata": {},
   "source": [
    "### Tokenization"
   ]
  },
  {
   "cell_type": "code",
   "execution_count": 24,
   "id": "b2a3ae61",
   "metadata": {},
   "outputs": [],
   "source": [
    "# tokenize into sentences\n",
    "cleaned_tokens = sent_tokenize(cleaned_text)"
   ]
  },
  {
   "cell_type": "code",
   "execution_count": 25,
   "id": "aab7ecba",
   "metadata": {},
   "outputs": [
    {
     "data": {
      "text/plain": [
       "['text preprocessing is the process of turning a document’s ﬂow of text into the quantiﬁable chunks needed for analysis.',\n",
       " 'the initial step in text preprocessing is text indexing, which is the process of converting a text or texts into a list of words\\n.',\n",
       " 'since a text or texts are given as unstructured forms by itself or themselves essentially, it is almost impossible to process \\nits raw form directly by using a computer program.',\n",
       " 'in other words, text indexing means the process of segmenting a text which \\nconsists of sentences into individual words.',\n",
       " 'note, this is not exhaustive.']"
      ]
     },
     "execution_count": 25,
     "metadata": {},
     "output_type": "execute_result"
    }
   ],
   "source": [
    "cleaned_tokens"
   ]
  },
  {
   "cell_type": "code",
   "execution_count": 28,
   "id": "401283ef",
   "metadata": {},
   "outputs": [
    {
     "data": {
      "text/plain": [
       "[['text',\n",
       "  'preprocessing',\n",
       "  'is',\n",
       "  'the',\n",
       "  'process',\n",
       "  'of',\n",
       "  'turning',\n",
       "  'a',\n",
       "  'document',\n",
       "  '’',\n",
       "  's',\n",
       "  'ﬂow',\n",
       "  'of',\n",
       "  'text',\n",
       "  'into',\n",
       "  'the',\n",
       "  'quantiﬁable',\n",
       "  'chunks',\n",
       "  'needed',\n",
       "  'for',\n",
       "  'analysis',\n",
       "  '.'],\n",
       " ['the',\n",
       "  'initial',\n",
       "  'step',\n",
       "  'in',\n",
       "  'text',\n",
       "  'preprocessing',\n",
       "  'is',\n",
       "  'text',\n",
       "  'indexing',\n",
       "  ',',\n",
       "  'which',\n",
       "  'is',\n",
       "  'the',\n",
       "  'process',\n",
       "  'of',\n",
       "  'converting',\n",
       "  'a',\n",
       "  'text',\n",
       "  'or',\n",
       "  'texts',\n",
       "  'into',\n",
       "  'a',\n",
       "  'list',\n",
       "  'of',\n",
       "  'words',\n",
       "  '.'],\n",
       " ['since',\n",
       "  'a',\n",
       "  'text',\n",
       "  'or',\n",
       "  'texts',\n",
       "  'are',\n",
       "  'given',\n",
       "  'as',\n",
       "  'unstructured',\n",
       "  'forms',\n",
       "  'by',\n",
       "  'itself',\n",
       "  'or',\n",
       "  'themselves',\n",
       "  'essentially',\n",
       "  ',',\n",
       "  'it',\n",
       "  'is',\n",
       "  'almost',\n",
       "  'impossible',\n",
       "  'to',\n",
       "  'process',\n",
       "  'its',\n",
       "  'raw',\n",
       "  'form',\n",
       "  'directly',\n",
       "  'by',\n",
       "  'using',\n",
       "  'a',\n",
       "  'computer',\n",
       "  'program',\n",
       "  '.'],\n",
       " ['in',\n",
       "  'other',\n",
       "  'words',\n",
       "  ',',\n",
       "  'text',\n",
       "  'indexing',\n",
       "  'means',\n",
       "  'the',\n",
       "  'process',\n",
       "  'of',\n",
       "  'segmenting',\n",
       "  'a',\n",
       "  'text',\n",
       "  'which',\n",
       "  'consists',\n",
       "  'of',\n",
       "  'sentences',\n",
       "  'into',\n",
       "  'individual',\n",
       "  'words',\n",
       "  '.'],\n",
       " ['note', ',', 'this', 'is', 'not', 'exhaustive', '.']]"
      ]
     },
     "execution_count": 28,
     "metadata": {},
     "output_type": "execute_result"
    }
   ],
   "source": [
    "clean_words= [word_tokenize(sent) for sent in cleaned_tokens]\n",
    "clean_words"
   ]
  },
  {
   "cell_type": "code",
   "execution_count": 26,
   "id": "d523b4da",
   "metadata": {},
   "outputs": [
    {
     "data": {
      "text/plain": [
       "['text',\n",
       " 'preprocessing',\n",
       " 'is',\n",
       " 'the',\n",
       " 'process',\n",
       " 'of',\n",
       " 'turning',\n",
       " 'a',\n",
       " 'document',\n",
       " '’',\n",
       " 's',\n",
       " 'ﬂow',\n",
       " 'of',\n",
       " 'text',\n",
       " 'into',\n",
       " 'the',\n",
       " 'quantiﬁable',\n",
       " 'chunks',\n",
       " 'needed',\n",
       " 'for',\n",
       " 'analysis',\n",
       " '.',\n",
       " 'the',\n",
       " 'initial',\n",
       " 'step',\n",
       " 'in',\n",
       " 'text',\n",
       " 'preprocessing',\n",
       " 'is',\n",
       " 'text',\n",
       " 'indexing',\n",
       " ',',\n",
       " 'which',\n",
       " 'is',\n",
       " 'the',\n",
       " 'process',\n",
       " 'of',\n",
       " 'converting',\n",
       " 'a',\n",
       " 'text',\n",
       " 'or',\n",
       " 'texts',\n",
       " 'into',\n",
       " 'a',\n",
       " 'list',\n",
       " 'of',\n",
       " 'words',\n",
       " '.',\n",
       " 'since',\n",
       " 'a',\n",
       " 'text',\n",
       " 'or',\n",
       " 'texts',\n",
       " 'are',\n",
       " 'given',\n",
       " 'as',\n",
       " 'unstructured',\n",
       " 'forms',\n",
       " 'by',\n",
       " 'itself',\n",
       " 'or',\n",
       " 'themselves',\n",
       " 'essentially',\n",
       " ',',\n",
       " 'it',\n",
       " 'is',\n",
       " 'almost',\n",
       " 'impossible',\n",
       " 'to',\n",
       " 'process',\n",
       " 'its',\n",
       " 'raw',\n",
       " 'form',\n",
       " 'directly',\n",
       " 'by',\n",
       " 'using',\n",
       " 'a',\n",
       " 'computer',\n",
       " 'program',\n",
       " '.',\n",
       " 'in',\n",
       " 'other',\n",
       " 'words',\n",
       " ',',\n",
       " 'text',\n",
       " 'indexing',\n",
       " 'means',\n",
       " 'the',\n",
       " 'process',\n",
       " 'of',\n",
       " 'segmenting',\n",
       " 'a',\n",
       " 'text',\n",
       " 'which',\n",
       " 'consists',\n",
       " 'of',\n",
       " 'sentences',\n",
       " 'into',\n",
       " 'individual',\n",
       " 'words',\n",
       " '.',\n",
       " 'note',\n",
       " ',',\n",
       " 'this',\n",
       " 'is',\n",
       " 'not',\n",
       " 'exhaustive',\n",
       " '.']"
      ]
     },
     "execution_count": 26,
     "metadata": {},
     "output_type": "execute_result"
    }
   ],
   "source": [
    "# tokenize into individual words\n",
    "cleaned_word_tokens = word_tokenize(cleaned_text)\n",
    "cleaned_word_tokens"
   ]
  },
  {
   "cell_type": "markdown",
   "id": "fcce0357",
   "metadata": {},
   "source": [
    "### Removal of Stopwords"
   ]
  },
  {
   "cell_type": "code",
   "execution_count": 30,
   "id": "b6ea507c",
   "metadata": {},
   "outputs": [
    {
     "data": {
      "text/plain": [
       "['i',\n",
       " 'me',\n",
       " 'my',\n",
       " 'myself',\n",
       " 'we',\n",
       " 'our',\n",
       " 'ours',\n",
       " 'ourselves',\n",
       " 'you',\n",
       " \"you're\",\n",
       " \"you've\",\n",
       " \"you'll\",\n",
       " \"you'd\",\n",
       " 'your',\n",
       " 'yours',\n",
       " 'yourself',\n",
       " 'yourselves',\n",
       " 'he',\n",
       " 'him',\n",
       " 'his',\n",
       " 'himself',\n",
       " 'she',\n",
       " \"she's\",\n",
       " 'her',\n",
       " 'hers',\n",
       " 'herself',\n",
       " 'it',\n",
       " \"it's\",\n",
       " 'its',\n",
       " 'itself',\n",
       " 'they',\n",
       " 'them',\n",
       " 'their',\n",
       " 'theirs',\n",
       " 'themselves',\n",
       " 'what',\n",
       " 'which',\n",
       " 'who',\n",
       " 'whom',\n",
       " 'this',\n",
       " 'that',\n",
       " \"that'll\",\n",
       " 'these',\n",
       " 'those',\n",
       " 'am',\n",
       " 'is',\n",
       " 'are',\n",
       " 'was',\n",
       " 'were',\n",
       " 'be',\n",
       " 'been',\n",
       " 'being',\n",
       " 'have',\n",
       " 'has',\n",
       " 'had',\n",
       " 'having',\n",
       " 'do',\n",
       " 'does',\n",
       " 'did',\n",
       " 'doing',\n",
       " 'a',\n",
       " 'an',\n",
       " 'the',\n",
       " 'and',\n",
       " 'but',\n",
       " 'if',\n",
       " 'or',\n",
       " 'because',\n",
       " 'as',\n",
       " 'until',\n",
       " 'while',\n",
       " 'of',\n",
       " 'at',\n",
       " 'by',\n",
       " 'for',\n",
       " 'with',\n",
       " 'about',\n",
       " 'against',\n",
       " 'between',\n",
       " 'into',\n",
       " 'through',\n",
       " 'during',\n",
       " 'before',\n",
       " 'after',\n",
       " 'above',\n",
       " 'below',\n",
       " 'to',\n",
       " 'from',\n",
       " 'up',\n",
       " 'down',\n",
       " 'in',\n",
       " 'out',\n",
       " 'on',\n",
       " 'off',\n",
       " 'over',\n",
       " 'under',\n",
       " 'again',\n",
       " 'further',\n",
       " 'then',\n",
       " 'once',\n",
       " 'here',\n",
       " 'there',\n",
       " 'when',\n",
       " 'where',\n",
       " 'why',\n",
       " 'how',\n",
       " 'all',\n",
       " 'any',\n",
       " 'both',\n",
       " 'each',\n",
       " 'few',\n",
       " 'more',\n",
       " 'most',\n",
       " 'other',\n",
       " 'some',\n",
       " 'such',\n",
       " 'no',\n",
       " 'nor',\n",
       " 'not',\n",
       " 'only',\n",
       " 'own',\n",
       " 'same',\n",
       " 'so',\n",
       " 'than',\n",
       " 'too',\n",
       " 'very',\n",
       " 's',\n",
       " 't',\n",
       " 'can',\n",
       " 'will',\n",
       " 'just',\n",
       " 'don',\n",
       " \"don't\",\n",
       " 'should',\n",
       " \"should've\",\n",
       " 'now',\n",
       " 'd',\n",
       " 'll',\n",
       " 'm',\n",
       " 'o',\n",
       " 're',\n",
       " 've',\n",
       " 'y',\n",
       " 'ain',\n",
       " 'aren',\n",
       " \"aren't\",\n",
       " 'couldn',\n",
       " \"couldn't\",\n",
       " 'didn',\n",
       " \"didn't\",\n",
       " 'doesn',\n",
       " \"doesn't\",\n",
       " 'hadn',\n",
       " \"hadn't\",\n",
       " 'hasn',\n",
       " \"hasn't\",\n",
       " 'haven',\n",
       " \"haven't\",\n",
       " 'isn',\n",
       " \"isn't\",\n",
       " 'ma',\n",
       " 'mightn',\n",
       " \"mightn't\",\n",
       " 'mustn',\n",
       " \"mustn't\",\n",
       " 'needn',\n",
       " \"needn't\",\n",
       " 'shan',\n",
       " \"shan't\",\n",
       " 'shouldn',\n",
       " \"shouldn't\",\n",
       " 'wasn',\n",
       " \"wasn't\",\n",
       " 'weren',\n",
       " \"weren't\",\n",
       " 'won',\n",
       " \"won't\",\n",
       " 'wouldn',\n",
       " \"wouldn't\"]"
      ]
     },
     "execution_count": 30,
     "metadata": {},
     "output_type": "execute_result"
    }
   ],
   "source": [
    "# create an instance of english stopwords\n",
    "\n",
    "stop_word=stopwords.words('english')\n",
    "stop_word"
   ]
  },
  {
   "cell_type": "code",
   "execution_count": 33,
   "id": "cb07a64c",
   "metadata": {},
   "outputs": [
    {
     "data": {
      "text/plain": [
       "['text',\n",
       " 'preprocessing',\n",
       " 'process',\n",
       " 'turning',\n",
       " 'document',\n",
       " '’',\n",
       " 'ﬂow',\n",
       " 'text',\n",
       " 'quantiﬁable',\n",
       " 'chunks',\n",
       " 'needed',\n",
       " 'analysis',\n",
       " '.',\n",
       " 'initial',\n",
       " 'step',\n",
       " 'text',\n",
       " 'preprocessing',\n",
       " 'text',\n",
       " 'indexing',\n",
       " ',',\n",
       " 'process',\n",
       " 'converting',\n",
       " 'text',\n",
       " 'texts',\n",
       " 'list',\n",
       " 'words',\n",
       " '.',\n",
       " 'since',\n",
       " 'text',\n",
       " 'texts',\n",
       " 'given',\n",
       " 'unstructured',\n",
       " 'forms',\n",
       " 'essentially',\n",
       " ',',\n",
       " 'almost',\n",
       " 'impossible',\n",
       " 'process',\n",
       " 'raw',\n",
       " 'form',\n",
       " 'directly',\n",
       " 'using',\n",
       " 'computer',\n",
       " 'program',\n",
       " '.',\n",
       " 'words',\n",
       " ',',\n",
       " 'text',\n",
       " 'indexing',\n",
       " 'means',\n",
       " 'process',\n",
       " 'segmenting',\n",
       " 'text',\n",
       " 'consists',\n",
       " 'sentences',\n",
       " 'individual',\n",
       " 'words',\n",
       " '.',\n",
       " 'note',\n",
       " ',',\n",
       " 'exhaustive',\n",
       " '.']"
      ]
     },
     "execution_count": 33,
     "metadata": {},
     "output_type": "execute_result"
    }
   ],
   "source": [
    "# remove the stopwords from the text\n",
    "cleaned_text= [word for sent in clean_words for word in sent if word not in stop_word]\n",
    "cleaned_text"
   ]
  },
  {
   "cell_type": "code",
   "execution_count": 34,
   "id": "3622ad6b",
   "metadata": {},
   "outputs": [],
   "source": [
    "#Removing Punctuations\n",
    "import string"
   ]
  },
  {
   "cell_type": "code",
   "execution_count": 35,
   "id": "476ef08d",
   "metadata": {},
   "outputs": [
    {
     "data": {
      "text/plain": [
       "'!\"#$%&\\'()*+,-./:;<=>?@[\\\\]^_`{|}~'"
      ]
     },
     "execution_count": 35,
     "metadata": {},
     "output_type": "execute_result"
    }
   ],
   "source": [
    "string.punctuation"
   ]
  },
  {
   "cell_type": "code",
   "execution_count": 37,
   "id": "bd2c5257",
   "metadata": {},
   "outputs": [
    {
     "data": {
      "text/plain": [
       "['text',\n",
       " 'preprocessing',\n",
       " 'process',\n",
       " 'turning',\n",
       " 'document',\n",
       " '’',\n",
       " 'ﬂow',\n",
       " 'text',\n",
       " 'quantiﬁable',\n",
       " 'chunks',\n",
       " 'needed',\n",
       " 'analysis',\n",
       " 'initial',\n",
       " 'step',\n",
       " 'text',\n",
       " 'preprocessing',\n",
       " 'text',\n",
       " 'indexing',\n",
       " 'process',\n",
       " 'converting',\n",
       " 'text',\n",
       " 'texts',\n",
       " 'list',\n",
       " 'words',\n",
       " 'since',\n",
       " 'text',\n",
       " 'texts',\n",
       " 'given',\n",
       " 'unstructured',\n",
       " 'forms',\n",
       " 'essentially',\n",
       " 'almost',\n",
       " 'impossible',\n",
       " 'process',\n",
       " 'raw',\n",
       " 'form',\n",
       " 'directly',\n",
       " 'using',\n",
       " 'computer',\n",
       " 'program',\n",
       " 'words',\n",
       " 'text',\n",
       " 'indexing',\n",
       " 'means',\n",
       " 'process',\n",
       " 'segmenting',\n",
       " 'text',\n",
       " 'consists',\n",
       " 'sentences',\n",
       " 'individual',\n",
       " 'words',\n",
       " 'note',\n",
       " 'exhaustive']"
      ]
     },
     "execution_count": 37,
     "metadata": {},
     "output_type": "execute_result"
    }
   ],
   "source": [
    "cleaned_text= [word for word in cleaned_text if word not in string.punctuation]\n",
    "cleaned_text"
   ]
  },
  {
   "cell_type": "code",
   "execution_count": 38,
   "id": "e7326717",
   "metadata": {},
   "outputs": [
    {
     "data": {
      "text/plain": [
       "['text',\n",
       " 'preprocessing',\n",
       " 'process',\n",
       " 'turning',\n",
       " 'document',\n",
       " 'ﬂow',\n",
       " 'text',\n",
       " 'quantiﬁable',\n",
       " 'chunks',\n",
       " 'needed',\n",
       " 'analysis',\n",
       " 'initial',\n",
       " 'step',\n",
       " 'text',\n",
       " 'preprocessing',\n",
       " 'text',\n",
       " 'indexing',\n",
       " 'process',\n",
       " 'converting',\n",
       " 'text',\n",
       " 'texts',\n",
       " 'list',\n",
       " 'words',\n",
       " 'since',\n",
       " 'text',\n",
       " 'texts',\n",
       " 'given',\n",
       " 'unstructured',\n",
       " 'forms',\n",
       " 'essentially',\n",
       " 'almost',\n",
       " 'impossible',\n",
       " 'process',\n",
       " 'raw',\n",
       " 'form',\n",
       " 'directly',\n",
       " 'using',\n",
       " 'computer',\n",
       " 'program',\n",
       " 'words',\n",
       " 'text',\n",
       " 'indexing',\n",
       " 'means',\n",
       " 'process',\n",
       " 'segmenting',\n",
       " 'text',\n",
       " 'consists',\n",
       " 'sentences',\n",
       " 'individual',\n",
       " 'words',\n",
       " 'note',\n",
       " 'exhaustive']"
      ]
     },
     "execution_count": 38,
     "metadata": {},
     "output_type": "execute_result"
    }
   ],
   "source": [
    "cleaned_text= [word for word in cleaned_text if word.isalpha()]\n",
    "cleaned_text"
   ]
  },
  {
   "cell_type": "markdown",
   "id": "987e13f4",
   "metadata": {},
   "source": [
    "### Stemming"
   ]
  },
  {
   "cell_type": "code",
   "execution_count": 39,
   "id": "79c9daca",
   "metadata": {},
   "outputs": [],
   "source": [
    "# create an instance of the stemmer\n",
    "stem= PorterStemmer()\n"
   ]
  },
  {
   "cell_type": "code",
   "execution_count": 41,
   "id": "7bdaa544",
   "metadata": {},
   "outputs": [],
   "source": [
    "# Apply the stemmer on the text\n",
    "\n",
    "clean_stem =[stem.stem(word) for word in cleaned_text]"
   ]
  },
  {
   "cell_type": "code",
   "execution_count": 42,
   "id": "b8a6f8bd",
   "metadata": {},
   "outputs": [
    {
     "data": {
      "text/plain": [
       "['text',\n",
       " 'preprocess',\n",
       " 'process',\n",
       " 'turn',\n",
       " 'document',\n",
       " 'ﬂow',\n",
       " 'text',\n",
       " 'quantiﬁ',\n",
       " 'chunk',\n",
       " 'need',\n",
       " 'analysi',\n",
       " 'initi',\n",
       " 'step',\n",
       " 'text',\n",
       " 'preprocess',\n",
       " 'text',\n",
       " 'index',\n",
       " 'process',\n",
       " 'convert',\n",
       " 'text',\n",
       " 'text',\n",
       " 'list',\n",
       " 'word',\n",
       " 'sinc',\n",
       " 'text',\n",
       " 'text',\n",
       " 'given',\n",
       " 'unstructur',\n",
       " 'form',\n",
       " 'essenti',\n",
       " 'almost',\n",
       " 'imposs',\n",
       " 'process',\n",
       " 'raw',\n",
       " 'form',\n",
       " 'directli',\n",
       " 'use',\n",
       " 'comput',\n",
       " 'program',\n",
       " 'word',\n",
       " 'text',\n",
       " 'index',\n",
       " 'mean',\n",
       " 'process',\n",
       " 'segment',\n",
       " 'text',\n",
       " 'consist',\n",
       " 'sentenc',\n",
       " 'individu',\n",
       " 'word',\n",
       " 'note',\n",
       " 'exhaust']"
      ]
     },
     "execution_count": 42,
     "metadata": {},
     "output_type": "execute_result"
    }
   ],
   "source": [
    "clean_stem"
   ]
  },
  {
   "cell_type": "markdown",
   "id": "6d56699a",
   "metadata": {},
   "source": [
    "### Lemmatization"
   ]
  },
  {
   "cell_type": "code",
   "execution_count": 43,
   "id": "0b713e3a",
   "metadata": {},
   "outputs": [],
   "source": [
    "# create an instance of the lemmatizer\n",
    "wm=WordNetLemmatizer()"
   ]
  },
  {
   "cell_type": "code",
   "execution_count": 44,
   "id": "4dc33576",
   "metadata": {},
   "outputs": [
    {
     "data": {
      "text/plain": [
       "['text',\n",
       " 'preprocessing',\n",
       " 'process',\n",
       " 'turning',\n",
       " 'document',\n",
       " 'ﬂow',\n",
       " 'text',\n",
       " 'quantiﬁable',\n",
       " 'chunk',\n",
       " 'needed',\n",
       " 'analysis',\n",
       " 'initial',\n",
       " 'step',\n",
       " 'text',\n",
       " 'preprocessing',\n",
       " 'text',\n",
       " 'indexing',\n",
       " 'process',\n",
       " 'converting',\n",
       " 'text',\n",
       " 'text',\n",
       " 'list',\n",
       " 'word',\n",
       " 'since',\n",
       " 'text',\n",
       " 'text',\n",
       " 'given',\n",
       " 'unstructured',\n",
       " 'form',\n",
       " 'essentially',\n",
       " 'almost',\n",
       " 'impossible',\n",
       " 'process',\n",
       " 'raw',\n",
       " 'form',\n",
       " 'directly',\n",
       " 'using',\n",
       " 'computer',\n",
       " 'program',\n",
       " 'word',\n",
       " 'text',\n",
       " 'indexing',\n",
       " 'mean',\n",
       " 'process',\n",
       " 'segmenting',\n",
       " 'text',\n",
       " 'consists',\n",
       " 'sentence',\n",
       " 'individual',\n",
       " 'word',\n",
       " 'note',\n",
       " 'exhaustive']"
      ]
     },
     "execution_count": 44,
     "metadata": {},
     "output_type": "execute_result"
    }
   ],
   "source": [
    "# Apply the lemmatizer on the text\n",
    "cleaned_lema= [wm.lemmatize(word) for word in cleaned_text]\n",
    "cleaned_lema"
   ]
  },
  {
   "cell_type": "code",
   "execution_count": null,
   "id": "c1959c67",
   "metadata": {},
   "outputs": [],
   "source": []
  },
  {
   "cell_type": "code",
   "execution_count": null,
   "id": "a1266fd6",
   "metadata": {},
   "outputs": [],
   "source": []
  }
 ],
 "metadata": {
  "kernelspec": {
   "display_name": "Python 3 (ipykernel)",
   "language": "python",
   "name": "python3"
  },
  "language_info": {
   "codemirror_mode": {
    "name": "ipython",
    "version": 3
   },
   "file_extension": ".py",
   "mimetype": "text/x-python",
   "name": "python",
   "nbconvert_exporter": "python",
   "pygments_lexer": "ipython3",
   "version": "3.10.9"
  },
  "toc": {
   "base_numbering": 1,
   "nav_menu": {},
   "number_sections": true,
   "sideBar": true,
   "skip_h1_title": false,
   "title_cell": "Table of Contents",
   "title_sidebar": "Contents",
   "toc_cell": false,
   "toc_position": {},
   "toc_section_display": true,
   "toc_window_display": false
  }
 },
 "nbformat": 4,
 "nbformat_minor": 5
}
