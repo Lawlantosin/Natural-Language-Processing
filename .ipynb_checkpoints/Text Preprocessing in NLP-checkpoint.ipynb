{
 "cells": [
  {
   "cell_type": "code",
   "execution_count": 1,
   "id": "52fe28c0",
   "metadata": {},
   "outputs": [],
   "source": [
    "import unidecode\n",
    "from nltk.corpus import stopwords\n",
    "from nltk.tokenize import word_tokenize, sent_tokenize\n",
    "from nltk.stem import PorterStemmer, WordNetLemmatizer\n",
    "from bs4 import BeautifulSoup"
   ]
  },
  {
   "cell_type": "code",
   "execution_count": 2,
   "id": "a677b542",
   "metadata": {},
   "outputs": [
    {
     "ename": "ModuleNotFoundError",
     "evalue": "No module named 'GPUtil'",
     "output_type": "error",
     "traceback": [
      "\u001b[1;31m---------------------------------------------------------------------------\u001b[0m",
      "\u001b[1;31mModuleNotFoundError\u001b[0m                       Traceback (most recent call last)",
      "Cell \u001b[1;32mIn[2], line 1\u001b[0m\n\u001b[1;32m----> 1\u001b[0m \u001b[38;5;28;01mimport\u001b[39;00m \u001b[38;5;21;01mGPUtil\u001b[39;00m\n\u001b[0;32m      2\u001b[0m GPUtil\u001b[38;5;241m.\u001b[39mgetAvailable()\n",
      "\u001b[1;31mModuleNotFoundError\u001b[0m: No module named 'GPUtil'"
     ]
    }
   ],
   "source": [
    "import GPUtil\n",
    "GPUtil.getAvailable()"
   ]
  },
  {
   "cell_type": "code",
   "execution_count": 53,
   "id": "776661c7",
   "metadata": {},
   "outputs": [],
   "source": [
    "text = \"\"\"<p>Text preprocessing is the process of turning a document’s ﬂow of text into the quantiﬁable chunks needed for analysis. \n",
    "The initial step in text preprocessing is text indexing, which is the process of converting a text or texts into a list of words\n",
    ". <br> Since a text or texts are given as unstructured forms by itself or themselves essentially, it's almost impossible to process \n",
    "its raw form directly by using a computer program. <br> In other words, text indexing means the process of segmenting a text which \n",
    "consists of sentences into individual words. <br> Note, this isn't exhaustive.</p>\"\"\"\n"
   ]
  },
  {
   "cell_type": "markdown",
   "id": "62800fdf",
   "metadata": {},
   "source": [
    "### HTML Tags Removal"
   ]
  },
  {
   "cell_type": "code",
   "execution_count": 54,
   "id": "05c0428a",
   "metadata": {},
   "outputs": [],
   "source": [
    "# create an instance of beautiful soup\n"
   ]
  },
  {
   "cell_type": "code",
   "execution_count": 82,
   "id": "e33ae141",
   "metadata": {},
   "outputs": [],
   "source": [
    "# get the text\n"
   ]
  },
  {
   "cell_type": "code",
   "execution_count": null,
   "id": "ac8c848a",
   "metadata": {},
   "outputs": [],
   "source": []
  },
  {
   "cell_type": "markdown",
   "id": "8fd5f9e2",
   "metadata": {},
   "source": [
    "### Fixing Contractions"
   ]
  },
  {
   "cell_type": "code",
   "execution_count": 57,
   "id": "ac64282d",
   "metadata": {},
   "outputs": [],
   "source": [
    "#!pip install contractions\n",
    "import contractions"
   ]
  },
  {
   "cell_type": "code",
   "execution_count": 58,
   "id": "d3861ed2",
   "metadata": {},
   "outputs": [],
   "source": [
    "# fix the contractions\n",
    "\n"
   ]
  },
  {
   "cell_type": "code",
   "execution_count": null,
   "id": "5c3639b9",
   "metadata": {},
   "outputs": [],
   "source": []
  },
  {
   "cell_type": "markdown",
   "id": "c06d3877",
   "metadata": {},
   "source": [
    "### Lowercasing text"
   ]
  },
  {
   "cell_type": "code",
   "execution_count": 60,
   "id": "13f1430d",
   "metadata": {},
   "outputs": [],
   "source": [
    "# convert the text to lower case\n",
    "\n"
   ]
  },
  {
   "cell_type": "code",
   "execution_count": null,
   "id": "d8a87a72",
   "metadata": {},
   "outputs": [],
   "source": []
  },
  {
   "cell_type": "markdown",
   "id": "c3a1412e",
   "metadata": {},
   "source": [
    "### Tokenization"
   ]
  },
  {
   "cell_type": "code",
   "execution_count": 62,
   "id": "b2a3ae61",
   "metadata": {},
   "outputs": [],
   "source": [
    "# tokenize into sentences\n"
   ]
  },
  {
   "cell_type": "code",
   "execution_count": null,
   "id": "aab7ecba",
   "metadata": {},
   "outputs": [],
   "source": []
  },
  {
   "cell_type": "code",
   "execution_count": 83,
   "id": "d523b4da",
   "metadata": {},
   "outputs": [],
   "source": [
    "# tokenize into individual words\n",
    "\n"
   ]
  },
  {
   "cell_type": "markdown",
   "id": "fcce0357",
   "metadata": {},
   "source": [
    "### Removal of Stopwords"
   ]
  },
  {
   "cell_type": "code",
   "execution_count": 46,
   "id": "b6ea507c",
   "metadata": {},
   "outputs": [],
   "source": [
    "# create an instance of english stopwords\n",
    "\n"
   ]
  },
  {
   "cell_type": "code",
   "execution_count": 71,
   "id": "cb07a64c",
   "metadata": {},
   "outputs": [],
   "source": [
    "# remove the stopwords from the text\n",
    "\n"
   ]
  },
  {
   "cell_type": "code",
   "execution_count": 80,
   "id": "3622ad6b",
   "metadata": {},
   "outputs": [],
   "source": []
  },
  {
   "cell_type": "code",
   "execution_count": null,
   "id": "bd2c5257",
   "metadata": {},
   "outputs": [],
   "source": []
  },
  {
   "cell_type": "markdown",
   "id": "987e13f4",
   "metadata": {},
   "source": [
    "### Stemming"
   ]
  },
  {
   "cell_type": "code",
   "execution_count": 84,
   "id": "79c9daca",
   "metadata": {},
   "outputs": [],
   "source": [
    "# create an instance of the stemmer\n",
    "\n"
   ]
  },
  {
   "cell_type": "code",
   "execution_count": 73,
   "id": "7bdaa544",
   "metadata": {},
   "outputs": [],
   "source": [
    "# Apply the stemmer on the text\n",
    "\n"
   ]
  },
  {
   "cell_type": "code",
   "execution_count": 75,
   "id": "b8a6f8bd",
   "metadata": {},
   "outputs": [],
   "source": []
  },
  {
   "cell_type": "markdown",
   "id": "6d56699a",
   "metadata": {},
   "source": [
    "### Lemmatization"
   ]
  },
  {
   "cell_type": "code",
   "execution_count": 76,
   "id": "0b713e3a",
   "metadata": {},
   "outputs": [],
   "source": [
    "# create an instance of the lemmatizer\n"
   ]
  },
  {
   "cell_type": "code",
   "execution_count": 77,
   "id": "4dc33576",
   "metadata": {},
   "outputs": [],
   "source": [
    "# Apply the lemmatizer on the text"
   ]
  },
  {
   "cell_type": "code",
   "execution_count": 79,
   "id": "c1959c67",
   "metadata": {},
   "outputs": [],
   "source": []
  },
  {
   "cell_type": "code",
   "execution_count": null,
   "id": "a1266fd6",
   "metadata": {},
   "outputs": [],
   "source": []
  }
 ],
 "metadata": {
  "kernelspec": {
   "display_name": "Python 3 (ipykernel)",
   "language": "python",
   "name": "python3"
  },
  "language_info": {
   "codemirror_mode": {
    "name": "ipython",
    "version": 3
   },
   "file_extension": ".py",
   "mimetype": "text/x-python",
   "name": "python",
   "nbconvert_exporter": "python",
   "pygments_lexer": "ipython3",
   "version": "3.10.9"
  },
  "toc": {
   "base_numbering": 1,
   "nav_menu": {},
   "number_sections": true,
   "sideBar": true,
   "skip_h1_title": false,
   "title_cell": "Table of Contents",
   "title_sidebar": "Contents",
   "toc_cell": false,
   "toc_position": {},
   "toc_section_display": true,
   "toc_window_display": false
  }
 },
 "nbformat": 4,
 "nbformat_minor": 5
}
