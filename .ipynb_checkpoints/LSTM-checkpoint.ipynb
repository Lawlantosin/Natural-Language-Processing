{
 "cells": [
  {
   "cell_type": "code",
   "execution_count": 21,
   "id": "a2ca4525",
   "metadata": {},
   "outputs": [],
   "source": [
    "import numpy as np\n",
    "import pandas as pd\n",
    "pd.set_option('max_colwidth', None)\n",
    "import matplotlib.pyplot as plt\n",
    "import seaborn as sns\n",
    "from tensorflow.keras.preprocessing.text import Tokenizer\n",
    "from tensorflow.keras.layers import SpatialDropout1D, Dense, Embedding, SimpleRNN, LSTM, Bidirectional\n",
    "from tensorflow.keras.preprocessing.sequence import pad_sequences\n",
    "from tensorflow.keras.models import Sequential\n",
    "from sklearn.model_selection import train_test_split\n",
    "from nltk import word_tokenize\n"
   ]
  },
  {
   "cell_type": "code",
   "execution_count": 11,
   "id": "3a7f562d",
   "metadata": {},
   "outputs": [],
   "source": [
    "df=pd.read_csv('Movieupdate.csv')"
   ]
  },
  {
   "cell_type": "code",
   "execution_count": 12,
   "id": "60257c2f",
   "metadata": {},
   "outputs": [
    {
     "data": {
      "text/html": [
       "<div>\n",
       "<style scoped>\n",
       "    .dataframe tbody tr th:only-of-type {\n",
       "        vertical-align: middle;\n",
       "    }\n",
       "\n",
       "    .dataframe tbody tr th {\n",
       "        vertical-align: top;\n",
       "    }\n",
       "\n",
       "    .dataframe thead th {\n",
       "        text-align: right;\n",
       "    }\n",
       "</style>\n",
       "<table border=\"1\" class=\"dataframe\">\n",
       "  <thead>\n",
       "    <tr style=\"text-align: right;\">\n",
       "      <th></th>\n",
       "      <th>text</th>\n",
       "      <th>label</th>\n",
       "    </tr>\n",
       "  </thead>\n",
       "  <tbody>\n",
       "    <tr>\n",
       "      <th>0</th>\n",
       "      <td>grew b watching loving thunderbird mate school watched played thunderbird school lunch school wanted virgil scott one wanted alan counting became art form took child see movie hoping would get glimpse loved child bitterly disappointing high point snappy theme tune could compare original score thunderbird thankfully early saturday morning one television channel still play rerun series gerry anderson wife created jonatha frakes hand director chair version completely hopeless waste film utter rubbish cgi remake may acceptable replacing marionette homo sapiens subsp sapiens huge error judgment</td>\n",
       "      <td>0</td>\n",
       "    </tr>\n",
       "    <tr>\n",
       "      <th>1</th>\n",
       "      <td>put movie dvd player sat coke chip expectation hoping movie would contain strong point first movie awsome animation good flowing story excellent voice cast funny comedy kick as soundtrack disappointment found atlantis milo return read review first might let following paragraph directed seen first movie enjoyed primarily point mentioned first scene appears shock picked atlantis milo return display case local videoshop whatever expectation music feel bad imitation first movie voice cast replaced fitting one exception character like voice sweet actual drawing bad animation particular sad sight storyline also pretty weak like three episode schooby doo single adventurous story got last time misunderstand good schooby doo episode laugh single time although might sniggered twice audience seen first movie especially care similar sequel fast review movie stand alone product liked schooby doo might like movie could still enjoy movie nothing else suspect might good kid movie would know might better milo return three episode series cartoon channel breakfast tv</td>\n",
       "      <td>0</td>\n",
       "    </tr>\n",
       "    <tr>\n",
       "      <th>2</th>\n",
       "      <td>people know particular time past like feel need try define time others replace woodstock civil war apollo moon landing titanic sinking got realistic flick formulaic soap opera populated entirely low life trash kid young allowed go woodstock failed grade school composition show old meany put movie prove know nuttin topic still make money yeah already know one thing watching film give little insight underclass thinking next time see slut bar look like diane lane running way child abuse let parent worthless raise kid audience abuse simply stick woodstock moonlanding flick ipso facto mean film portrays</td>\n",
       "      <td>0</td>\n",
       "    </tr>\n",
       "    <tr>\n",
       "      <th>3</th>\n",
       "      <td>even though great interest biblical movie bored death every minute movie everything bad movie long acting time joke script horrible get point mixing story abraham noah together value time sanity stay away horror</td>\n",
       "      <td>0</td>\n",
       "    </tr>\n",
       "    <tr>\n",
       "      <th>4</th>\n",
       "      <td>die hard dad army fan nothing ever change got tape dvd audiobooks every time watch listen brand new film film run certain episode man hour enemy within gate battle school numerous others different edge introduction new general instead captain square brilliant move especially would cash cheque something rarely done follows early year getting equipment uniform starting training great film boring sunday afternoon two draw back one german bogus dodgy accent come one german pronounced letter w like u two casting liz frazer instead familiar janet davis like liz film like carry ons carry correctly janet davis would better choice</td>\n",
       "      <td>1</td>\n",
       "    </tr>\n",
       "    <tr>\n",
       "      <th>...</th>\n",
       "      <td>...</td>\n",
       "      <td>...</td>\n",
       "    </tr>\n",
       "    <tr>\n",
       "      <th>39718</th>\n",
       "      <td>western union something forgotten classic western perhaps reason lie fact unavailability dvd united state however lost appeared region england blessing way incongruous totally ironic one considers movie depicting founding establishment uniquely american organization western union telegraph company without region release beggar belief simply make sense produced fox western union directed fritz lang second occasion great german director undertook direct western done excellent job year fox return frank james would one western outing splendid rancho notorious lang ford hawk western union turned fine solid western hold well beautifully photographed early three strip technicolor edward cronjager boasted good cast headed robert young randolph scott dean jagger female lead taken virginia gilmore really little picture actress never made anything career presence merely cosmetic curious robert young top billing scott clearly scott picture beginning first see film terrific opening scene chased posse across plain young much throughout movie seems place western look plain silly going barton mclane gunfight actor never really distinguished except perhaps crossfire young appeared string forgettable romantic comedy forty fifty culminating greatest success seven year tv marcus welby md seventy died age western union recount connection telegraph wire omaha salt lake city scott play reformed outlaw hired western union bos dean jagger protect line marauding sioux also take mclane gang trying destroy line devious end robert young young engineer back east join company vies scott affection miss gilmore comic relief provided irritatingly would say slim summerville john carradine turn meager role company doctor altogether though spanking good western albeit region sparkling good quality fan delighted crib extra even trailer terrible cover dull graphic ugh footnote interestingly associate producer western union harry joe brown later randolph scott would create partnership would produce scott finest western fifty</td>\n",
       "      <td>1</td>\n",
       "    </tr>\n",
       "    <tr>\n",
       "      <th>39719</th>\n",
       "      <td>movie incredible piece work explores every nook cranny human mind focusing character relationship people around stellar performance around one weeping half hour straight spend real time one</td>\n",
       "      <td>1</td>\n",
       "    </tr>\n",
       "    <tr>\n",
       "      <th>39720</th>\n",
       "      <td>wife watched movie plan visit sicily stromboli soon fortunately unfortunately landscape seascape complete tuna believable member cast expected reasonable well written well acted movie disappointed redeeming grace extended remarkable fishing sequence full authenticity thrashing tuna net wooden boat long oar passionate superstitious fisherman movie sequencing stagy dialogue stilted acting range stiff completely top one scene bergman stress macho native na husband sics ferret innocent apparently already deceased rabbit would perfect grist monty python skit volcano blew hoped merciful end suffering cast unfortunately movie continues flail staggering finally melodramatic absurd ending unless really old time tuna fishing pas hokey effort</td>\n",
       "      <td>0</td>\n",
       "    </tr>\n",
       "    <tr>\n",
       "      <th>39721</th>\n",
       "      <td>first watched flatliners amazed necessary feature good movie cast superb plot superb case thriller genuine thrill throughout keifer sutherland offered marvelous performance male lead piece portraying scientist belief find answer life death killing coming back life essentially stealing death secret away kevin bacon offer excellent performance morally decent counterpart keifer julia robert offer convincing role william baldwin portrays student excels class apparently intercourse oliver platt another outstanding performance portrays voice reason group innocent story relatively simple yet original acting refreshing definitely stand film genre one set standard measuring thriller</td>\n",
       "      <td>1</td>\n",
       "    </tr>\n",
       "    <tr>\n",
       "      <th>39722</th>\n",
       "      <td>would film good gross estimated award nomination john travolta know know michael cigar smoking womanizing magical arch angel came live dying lady car staff national mirror dog sparky way chicago turn road trip horrible great even think death scene exact make tearjerker soundtrack best heaven home around bend chain fool great expectation say little respect read comment bye</td>\n",
       "      <td>1</td>\n",
       "    </tr>\n",
       "  </tbody>\n",
       "</table>\n",
       "<p>39723 rows × 2 columns</p>\n",
       "</div>"
      ],
      "text/plain": [
       "                                                                                                                                                                                                                                                                                                                                                                                                                                                                                                                                                                                                                                                                                                                                                                                                                                                                                                                                                                                                                                                                                                                                                                                                                                                                                                                                                                                                                                                                                                                                                                                                                                                                                                                                                                                                                                                                                                                                                                                                                                                                                                       text  label\n",
       "0                                                                                                                                                                                                                                                                                                                                                                                                                                                                                                                                                                                                                                                                                                                                                                                                                                                                                                                                                                                                                                                                                                                                                                                                                                                                                                                                                                                                                                                                                      grew b watching loving thunderbird mate school watched played thunderbird school lunch school wanted virgil scott one wanted alan counting became art form took child see movie hoping would get glimpse loved child bitterly disappointing high point snappy theme tune could compare original score thunderbird thankfully early saturday morning one television channel still play rerun series gerry anderson wife created jonatha frakes hand director chair version completely hopeless waste film utter rubbish cgi remake may acceptable replacing marionette homo sapiens subsp sapiens huge error judgment      0\n",
       "1                                                                                                                                                                                                                                                                                                                                                                                                                                                                                                                                                                                                                                                                                                                                                                                                                                                                                                                                                                                                  put movie dvd player sat coke chip expectation hoping movie would contain strong point first movie awsome animation good flowing story excellent voice cast funny comedy kick as soundtrack disappointment found atlantis milo return read review first might let following paragraph directed seen first movie enjoyed primarily point mentioned first scene appears shock picked atlantis milo return display case local videoshop whatever expectation music feel bad imitation first movie voice cast replaced fitting one exception character like voice sweet actual drawing bad animation particular sad sight storyline also pretty weak like three episode schooby doo single adventurous story got last time misunderstand good schooby doo episode laugh single time although might sniggered twice audience seen first movie especially care similar sequel fast review movie stand alone product liked schooby doo might like movie could still enjoy movie nothing else suspect might good kid movie would know might better milo return three episode series cartoon channel breakfast tv      0\n",
       "2                                                                                                                                                                                                                                                                                                                                                                                                                                                                                                                                                                                                                                                                                                                                                                                                                                                                                                                                                                                                                                                                                                                                                                                                                                                                                                                                                                                                                                                                             people know particular time past like feel need try define time others replace woodstock civil war apollo moon landing titanic sinking got realistic flick formulaic soap opera populated entirely low life trash kid young allowed go woodstock failed grade school composition show old meany put movie prove know nuttin topic still make money yeah already know one thing watching film give little insight underclass thinking next time see slut bar look like diane lane running way child abuse let parent worthless raise kid audience abuse simply stick woodstock moonlanding flick ipso facto mean film portrays      0\n",
       "3                                                                                                                                                                                                                                                                                                                                                                                                                                                                                                                                                                                                                                                                                                                                                                                                                                                                                                                                                                                                                                                                                                                                                                                                                                                                                                                                                                                                                                                                                                                                                                                                                                                                                                                                                                                                                                                                                       even though great interest biblical movie bored death every minute movie everything bad movie long acting time joke script horrible get point mixing story abraham noah together value time sanity stay away horror      0\n",
       "4                                                                                                                                                                                                                                                                                                                                                                                                                                                                                                                                                                                                                                                                                                                                                                                                                                                                                                                                                                                                                                                                                                                                                                                                                                                                                                                                                                                                                                                     die hard dad army fan nothing ever change got tape dvd audiobooks every time watch listen brand new film film run certain episode man hour enemy within gate battle school numerous others different edge introduction new general instead captain square brilliant move especially would cash cheque something rarely done follows early year getting equipment uniform starting training great film boring sunday afternoon two draw back one german bogus dodgy accent come one german pronounced letter w like u two casting liz frazer instead familiar janet davis like liz film like carry ons carry correctly janet davis would better choice      1\n",
       "...                                                                                                                                                                                                                                                                                                                                                                                                                                                                                                                                                                                                                                                                                                                                                                                                                                                                                                                                                                                                                                                                                                                                                                                                                                                                                                                                                                                                                                                                                                                                                                                                                                                                                                                                                                                                                                                                                                                                                                                                                                                                                                     ...    ...\n",
       "39718  western union something forgotten classic western perhaps reason lie fact unavailability dvd united state however lost appeared region england blessing way incongruous totally ironic one considers movie depicting founding establishment uniquely american organization western union telegraph company without region release beggar belief simply make sense produced fox western union directed fritz lang second occasion great german director undertook direct western done excellent job year fox return frank james would one western outing splendid rancho notorious lang ford hawk western union turned fine solid western hold well beautifully photographed early three strip technicolor edward cronjager boasted good cast headed robert young randolph scott dean jagger female lead taken virginia gilmore really little picture actress never made anything career presence merely cosmetic curious robert young top billing scott clearly scott picture beginning first see film terrific opening scene chased posse across plain young much throughout movie seems place western look plain silly going barton mclane gunfight actor never really distinguished except perhaps crossfire young appeared string forgettable romantic comedy forty fifty culminating greatest success seven year tv marcus welby md seventy died age western union recount connection telegraph wire omaha salt lake city scott play reformed outlaw hired western union bos dean jagger protect line marauding sioux also take mclane gang trying destroy line devious end robert young young engineer back east join company vies scott affection miss gilmore comic relief provided irritatingly would say slim summerville john carradine turn meager role company doctor altogether though spanking good western albeit region sparkling good quality fan delighted crib extra even trailer terrible cover dull graphic ugh footnote interestingly associate producer western union harry joe brown later randolph scott would create partnership would produce scott finest western fifty      1\n",
       "39719                                                                                                                                                                                                                                                                                                                                                                                                                                                                                                                                                                                                                                                                                                                                                                                                                                                                                                                                                                                                                                                                                                                                                                                                                                                                                                                                                                                                                                                                                                                                                                                                                                                                                                                                                                                                                                                                                                         movie incredible piece work explores every nook cranny human mind focusing character relationship people around stellar performance around one weeping half hour straight spend real time one      1\n",
       "39720                                                                                                                                                                                                                                                                                                                                                                                                                                                                                                                                                                                                                                                                                                                                                                                                                                                                                                                                                                                                                                                                                                                                                                                                                                                                                                                                 wife watched movie plan visit sicily stromboli soon fortunately unfortunately landscape seascape complete tuna believable member cast expected reasonable well written well acted movie disappointed redeeming grace extended remarkable fishing sequence full authenticity thrashing tuna net wooden boat long oar passionate superstitious fisherman movie sequencing stagy dialogue stilted acting range stiff completely top one scene bergman stress macho native na husband sics ferret innocent apparently already deceased rabbit would perfect grist monty python skit volcano blew hoped merciful end suffering cast unfortunately movie continues flail staggering finally melodramatic absurd ending unless really old time tuna fishing pas hokey effort      0\n",
       "39721                                                                                                                                                                                                                                                                                                                                                                                                                                                                                                                                                                                                                                                                                                                                                                                                                                                                                                                                                                                                                                                                                                                                                                                                                                                                                                                                                                                            first watched flatliners amazed necessary feature good movie cast superb plot superb case thriller genuine thrill throughout keifer sutherland offered marvelous performance male lead piece portraying scientist belief find answer life death killing coming back life essentially stealing death secret away kevin bacon offer excellent performance morally decent counterpart keifer julia robert offer convincing role william baldwin portrays student excels class apparently intercourse oliver platt another outstanding performance portrays voice reason group innocent story relatively simple yet original acting refreshing definitely stand film genre one set standard measuring thriller      1\n",
       "39722                                                                                                                                                                                                                                                                                                                                                                                                                                                                                                                                                                                                                                                                                                                                                                                                                                                                                                                                                                                                                                                                                                                                                                                                                                                                                                                                                                                                                                                                                                                                                                                                                                                                                                                would film good gross estimated award nomination john travolta know know michael cigar smoking womanizing magical arch angel came live dying lady car staff national mirror dog sparky way chicago turn road trip horrible great even think death scene exact make tearjerker soundtrack best heaven home around bend chain fool great expectation say little respect read comment bye      1\n",
       "\n",
       "[39723 rows x 2 columns]"
      ]
     },
     "execution_count": 12,
     "metadata": {},
     "output_type": "execute_result"
    }
   ],
   "source": [
    "df"
   ]
  },
  {
   "cell_type": "code",
   "execution_count": 22,
   "id": "4705311a",
   "metadata": {},
   "outputs": [],
   "source": [
    "def CountSentence(row):\n",
    "    token=word_tokenize(row)\n",
    "    length=len(token)\n",
    "    return length"
   ]
  },
  {
   "cell_type": "code",
   "execution_count": 23,
   "id": "7a913d62",
   "metadata": {},
   "outputs": [],
   "source": [
    "df['sentenceLength']= df['text'].apply(lambda x: CountSentence(x))"
   ]
  },
  {
   "cell_type": "code",
   "execution_count": 24,
   "id": "45f40e8e",
   "metadata": {},
   "outputs": [
    {
     "data": {
      "text/plain": [
       "count    39723.000000\n",
       "mean       118.400826\n",
       "std         89.495887\n",
       "min          3.000000\n",
       "25%         63.000000\n",
       "50%         88.000000\n",
       "75%        144.000000\n",
       "max       1417.000000\n",
       "Name: sentenceLength, dtype: float64"
      ]
     },
     "execution_count": 24,
     "metadata": {},
     "output_type": "execute_result"
    }
   ],
   "source": [
    "df['sentenceLength'].describe()"
   ]
  },
  {
   "cell_type": "code",
   "execution_count": 36,
   "id": "d197f7fd",
   "metadata": {},
   "outputs": [
    {
     "data": {
      "text/plain": [
       "text              2084\n",
       "label             2084\n",
       "sentenceLength    2084\n",
       "dtype: int64"
      ]
     },
     "execution_count": 36,
     "metadata": {},
     "output_type": "execute_result"
    }
   ],
   "source": [
    "df[df['sentenceLength']>300].count()"
   ]
  },
  {
   "cell_type": "markdown",
   "id": "eb13cac7",
   "metadata": {},
   "source": [
    "##### Tokenize and convert to vector"
   ]
  },
  {
   "cell_type": "code",
   "execution_count": 13,
   "id": "4867b66c",
   "metadata": {},
   "outputs": [],
   "source": [
    "tokenizer=Tokenizer(num_words=2000)"
   ]
  },
  {
   "cell_type": "code",
   "execution_count": 14,
   "id": "b8eb67e7",
   "metadata": {},
   "outputs": [],
   "source": [
    "tokenizer.fit_on_texts(df['text'].values)"
   ]
  },
  {
   "cell_type": "code",
   "execution_count": 15,
   "id": "6bcfeb9d",
   "metadata": {},
   "outputs": [],
   "source": [
    "x= tokenizer.texts_to_sequences(df['text'].values)"
   ]
  },
  {
   "cell_type": "markdown",
   "id": "ea1f96e0",
   "metadata": {},
   "source": [
    "##### Pad Sequence"
   ]
  },
  {
   "cell_type": "code",
   "execution_count": 37,
   "id": "ec1086ca",
   "metadata": {},
   "outputs": [],
   "source": [
    "X=pad_sequences(x, maxlen=300)"
   ]
  },
  {
   "cell_type": "code",
   "execution_count": 38,
   "id": "f8114956",
   "metadata": {},
   "outputs": [
    {
     "data": {
      "text/plain": [
       "array([[   0,    0,    0, ...,  817,  108,  507],\n",
       "       [   0,    0,    0, ...,  630,  880,  134],\n",
       "       [   0,    0,    0, ...,  277,  171,    2],\n",
       "       ...,\n",
       "       [   0,    0,    0, ...,    5, 1158,  463],\n",
       "       [   0,    0,    0, ...,  111,  634,  486],\n",
       "       [   0,    0,    0, ...,  918,  222,  342]])"
      ]
     },
     "execution_count": 38,
     "metadata": {},
     "output_type": "execute_result"
    }
   ],
   "source": [
    "X"
   ]
  },
  {
   "cell_type": "code",
   "execution_count": 39,
   "id": "40b0a142",
   "metadata": {},
   "outputs": [],
   "source": [
    "y=df['label']"
   ]
  },
  {
   "cell_type": "code",
   "execution_count": 40,
   "id": "15aa67ab",
   "metadata": {},
   "outputs": [],
   "source": [
    "X_train, X_test, y_train, y_test = train_test_split(X,y, test_size=0.2, random_state=0)"
   ]
  },
  {
   "cell_type": "code",
   "execution_count": 42,
   "id": "d5859fb2",
   "metadata": {},
   "outputs": [
    {
     "data": {
      "text/plain": [
       "(31778, 300)"
      ]
     },
     "execution_count": 42,
     "metadata": {},
     "output_type": "execute_result"
    }
   ],
   "source": [
    "X_train.shape"
   ]
  },
  {
   "cell_type": "code",
   "execution_count": 43,
   "id": "61331131",
   "metadata": {},
   "outputs": [],
   "source": [
    "from tensorflow.keras.utils import to_categorical\n",
    "y_train_cat=to_categorical(y_train)\n",
    "y_test_cat=to_categorical(y_test)"
   ]
  },
  {
   "cell_type": "markdown",
   "id": "97204c4e",
   "metadata": {},
   "source": [
    "##### RNN Model"
   ]
  },
  {
   "cell_type": "code",
   "execution_count": 44,
   "id": "79e57603",
   "metadata": {},
   "outputs": [],
   "source": [
    "model = Sequential()\n",
    "model.add(Embedding(2000, 100, input_length=X.shape[1]))\n",
    "model.add(SimpleRNN(100))\n",
    "model.add(Dense(2, activation='sigmoid'))\n",
    "\n",
    "#Compile the model\n",
    "model.compile(optimizer='adam', loss= 'binary_crossentropy', metrics=['accuracy'])"
   ]
  },
  {
   "cell_type": "code",
   "execution_count": 46,
   "id": "e5fa8905",
   "metadata": {},
   "outputs": [
    {
     "name": "stdout",
     "output_type": "stream",
     "text": [
      "Model: \"sequential\"\n",
      "_________________________________________________________________\n",
      " Layer (type)                Output Shape              Param #   \n",
      "=================================================================\n",
      " embedding (Embedding)       (None, 300, 100)          200000    \n",
      "                                                                 \n",
      " simple_rnn (SimpleRNN)      (None, 100)               20100     \n",
      "                                                                 \n",
      " dense (Dense)               (None, 2)                 202       \n",
      "                                                                 \n",
      "=================================================================\n",
      "Total params: 220,302\n",
      "Trainable params: 220,302\n",
      "Non-trainable params: 0\n",
      "_________________________________________________________________\n"
     ]
    }
   ],
   "source": [
    "model.summary()"
   ]
  },
  {
   "cell_type": "code",
   "execution_count": 47,
   "id": "6dd9f51c",
   "metadata": {},
   "outputs": [],
   "source": [
    "from tensorflow.keras.callbacks import EarlyStopping, ModelCheckpoint"
   ]
  },
  {
   "cell_type": "code",
   "execution_count": 48,
   "id": "5d656603",
   "metadata": {},
   "outputs": [],
   "source": [
    "es=EarlyStopping(patience=3, verbose=1)\n",
    "chkpt=ModelCheckpoint('./Models/rnn.hdf5', verbose=1, save_best_only=True)"
   ]
  },
  {
   "cell_type": "code",
   "execution_count": null,
   "id": "45433169",
   "metadata": {},
   "outputs": [
    {
     "name": "stdout",
     "output_type": "stream",
     "text": [
      "Epoch 1/10\n",
      "795/795 [==============================] - ETA: 0s - loss: 0.5278 - accuracy: 0.7230\n",
      "Epoch 1: val_loss improved from inf to 0.39428, saving model to ./NLP project/Models\\rnn.hdf5\n",
      "795/795 [==============================] - 261s 325ms/step - loss: 0.5278 - accuracy: 0.7230 - val_loss: 0.3943 - val_accuracy: 0.8206\n",
      "Epoch 2/10\n",
      "795/795 [==============================] - ETA: 0s - loss: 0.3701 - accuracy: 0.8438\n",
      "Epoch 2: val_loss improved from 0.39428 to 0.37455, saving model to ./NLP project/Models\\rnn.hdf5\n",
      "795/795 [==============================] - 254s 319ms/step - loss: 0.3701 - accuracy: 0.8438 - val_loss: 0.3745 - val_accuracy: 0.8301\n",
      "Epoch 3/10\n",
      "795/795 [==============================] - ETA: 0s - loss: 0.4122 - accuracy: 0.8166\n",
      "Epoch 3: val_loss did not improve from 0.37455\n",
      "795/795 [==============================] - 257s 324ms/step - loss: 0.4122 - accuracy: 0.8166 - val_loss: 0.5770 - val_accuracy: 0.6981\n",
      "Epoch 4/10\n",
      "355/795 [============>.................] - ETA: 2:11 - loss: 0.5996 - accuracy: 0.6741"
     ]
    }
   ],
   "source": [
    "hist=model.fit(X_train, y_train_cat, batch_size=32, epochs=10, validation_split=0.2, callbacks=[es,chkpt])"
   ]
  },
  {
   "cell_type": "markdown",
   "id": "ce353599",
   "metadata": {},
   "source": [
    "##### LSTM"
   ]
  },
  {
   "cell_type": "code",
   "execution_count": null,
   "id": "d23a02c7",
   "metadata": {},
   "outputs": [],
   "source": [
    "model3 = Sequential()\n",
    "model3.add(Embedding(2000, 100, input_length=X.shape[1]))\n",
    "model3.add(SpatialDropout1D(0.3))\n",
    "model3.add(LSTM(100))\n",
    "model3.add(Dropout(0.5))\n",
    "model3.add(Dense(2, activation='sigmoid'))\n",
    "\n",
    "#Compile the model\n",
    "model3.compile(optimizer='adam', loss= 'binary_crossentropy', metrics=['accuracy'])\n",
    "\n",
    "model3.summary()"
   ]
  }
 ],
 "metadata": {
  "kernelspec": {
   "display_name": "Python 3 (ipykernel)",
   "language": "python",
   "name": "python3"
  },
  "language_info": {
   "codemirror_mode": {
    "name": "ipython",
    "version": 3
   },
   "file_extension": ".py",
   "mimetype": "text/x-python",
   "name": "python",
   "nbconvert_exporter": "python",
   "pygments_lexer": "ipython3",
   "version": "3.10.9"
  },
  "toc": {
   "base_numbering": 1,
   "nav_menu": {},
   "number_sections": true,
   "sideBar": true,
   "skip_h1_title": false,
   "title_cell": "Table of Contents",
   "title_sidebar": "Contents",
   "toc_cell": false,
   "toc_position": {},
   "toc_section_display": true,
   "toc_window_display": false
  }
 },
 "nbformat": 4,
 "nbformat_minor": 5
}
