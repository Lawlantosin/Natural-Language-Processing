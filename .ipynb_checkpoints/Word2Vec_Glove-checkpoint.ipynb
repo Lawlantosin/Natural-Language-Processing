{
 "cells": [
  {
   "cell_type": "markdown",
   "metadata": {
    "id": "YfSeR1q8gwjZ"
   },
   "source": [
    "#### Import required packages"
   ]
  },
  {
   "cell_type": "code",
   "execution_count": null,
   "metadata": {
    "id": "a2GKFDy_eO6U"
   },
   "outputs": [],
   "source": [
    "# Importing the required the libraries\n",
    "\n",
    "# To read and manipulate the data\n",
    "import pandas as pd\n",
    "import numpy as np\n",
    "pd.set_option('max_colwidth', None)\n",
    "\n",
    "# To visualise the graphs\n",
    "import matplotlib.pyplot as plt\n",
    "import seaborn as sns\n",
    "\n",
    "# Helps to display the images\n",
    "# from PIL import Image\n",
    "\n",
    "# Helps to extract the data using regular expressions\n",
    "import re\n",
    "\n",
    "# Helps to remove the punctuation\n",
    "import string\n",
    "\n",
    "# Importing the NLTK library\n",
    "import nltk\n",
    "\n",
    "from nltk.corpus import stopwords\n",
    "\n",
    "# Helps to visualize the wordcloud\n",
    "from wordcloud import WordCloud, STOPWORDS, ImageColorGenerator\n",
    "\n",
    "# Used in Stemming\n",
    "from nltk.stem.porter import PorterStemmer\n",
    "\n",
    "import gensim\n",
    "# Used in Lemmatization\n",
    "from nltk.stem import WordNetLemmatizer\n",
    "\n",
    "from sklearn.feature_extraction.text import CountVectorizer          #For Bag of words\n",
    "from sklearn.feature_extraction.text import TfidfVectorizer          #For TF-IDF\n",
    "\n",
    "# Helped to create train and test data\n",
    "from sklearn.model_selection import train_test_split\n",
    "\n",
    "# Importing the Random Forest model\n",
    "from sklearn.ensemble import RandomForestClassifier\n",
    "\n",
    "# Metrics to evaluate the model\n",
    "from sklearn.metrics import accuracy_score, classification_report, confusion_matrix"
   ]
  },
  {
   "cell_type": "code",
   "execution_count": null,
   "metadata": {
    "colab": {
     "base_uri": "https://localhost:8080/"
    },
    "id": "ffQw8AU8hwAH",
    "outputId": "bd610d93-bf6e-4239-db49-4b4d57e1e4a4"
   },
   "outputs": [
    {
     "name": "stdout",
     "output_type": "stream",
     "text": [
      "Mounted at /content/drive\n"
     ]
    }
   ],
   "source": [
    "from google.colab import drive\n",
    "drive.mount(\"/content/drive\")"
   ]
  },
  {
   "cell_type": "code",
   "execution_count": null,
   "metadata": {
    "id": "nNgu8vYWpGcR"
   },
   "outputs": [],
   "source": [
    "# Function to print the classification report and get confusion matrix in a proper format\n",
    "\n",
    "def metrics_score(actual, predicted):\n",
    "\n",
    "    print(classification_report(actual, predicted))\n",
    "\n",
    "    cm = confusion_matrix(actual, predicted)\n",
    "\n",
    "    plt.figure(figsize = (8, 5))\n",
    "\n",
    "    sns.heatmap(cm, annot = True,  fmt = '.2f', xticklabels = ['negative', 'positive'], yticklabels = ['negative', 'positive'])\n",
    "\n",
    "    plt.ylabel('Actual')\n",
    "\n",
    "    plt.xlabel('Predicted')\n",
    "\n",
    "    plt.show()"
   ]
  },
  {
   "cell_type": "markdown",
   "metadata": {
    "id": "dAMlI4vwhpKY"
   },
   "source": [
    "#### Load the Cleaned Data"
   ]
  },
  {
   "cell_type": "code",
   "execution_count": null,
   "metadata": {
    "id": "eA8V8fVxhrtm"
   },
   "outputs": [],
   "source": [
    "df = pd.read_csv(\"/content/drive/MyDrive/Files/Data/cleaned_df.csv\")"
   ]
  },
  {
   "cell_type": "code",
   "execution_count": null,
   "metadata": {
    "id": "fJ49Yg30iReG"
   },
   "outputs": [],
   "source": [
    "# check the dimension of the data\n",
    "\n"
   ]
  },
  {
   "cell_type": "code",
   "execution_count": null,
   "metadata": {
    "id": "v8ReScUZiS9h"
   },
   "outputs": [],
   "source": [
    "# display few rows\n",
    "\n"
   ]
  },
  {
   "cell_type": "markdown",
   "metadata": {
    "id": "s9CLVdQrjZuS"
   },
   "source": [
    "#### Introduction to Word2Vec\n",
    "- Word2Vec are Dense vectors"
   ]
  },
  {
   "cell_type": "code",
   "execution_count": null,
   "metadata": {
    "id": "LGg1pD0xlh8i"
   },
   "outputs": [],
   "source": [
    "### Import the word2vec from gensim models\n",
    "from gensim.models import Word2Vec"
   ]
  },
  {
   "cell_type": "code",
   "execution_count": null,
   "metadata": {
    "id": "yDLpF59Aibf4"
   },
   "outputs": [],
   "source": [
    "# Get the list of all the sentences in the data\n",
    "\n"
   ]
  },
  {
   "cell_type": "code",
   "execution_count": null,
   "metadata": {
    "id": "vdOjFIcSkaJc"
   },
   "outputs": [],
   "source": []
  },
  {
   "cell_type": "markdown",
   "metadata": {
    "id": "rS6A4vQFlTJ0"
   },
   "source": [
    "##### Create a Word2Vec Model"
   ]
  },
  {
   "cell_type": "code",
   "execution_count": null,
   "metadata": {
    "id": "D1Ot--8Ukbma"
   },
   "outputs": [],
   "source": [
    "# create the word2vec model\n"
   ]
  },
  {
   "cell_type": "code",
   "execution_count": null,
   "metadata": {
    "id": "_M-BcK3ilw_E"
   },
   "outputs": [],
   "source": [
    "# get the vocabulary for our data\n",
    "\n"
   ]
  },
  {
   "cell_type": "code",
   "execution_count": null,
   "metadata": {
    "id": "L41NDIcomFtn"
   },
   "outputs": [],
   "source": [
    "# what's the length of our vocabulary\n",
    "\n"
   ]
  },
  {
   "cell_type": "code",
   "execution_count": null,
   "metadata": {
    "id": "YXieR_YBmLXO"
   },
   "outputs": [],
   "source": [
    "# Top words similar to \"happy\"\n",
    "\n"
   ]
  },
  {
   "cell_type": "code",
   "execution_count": null,
   "metadata": {
    "id": "M3w1Rxovmdey"
   },
   "outputs": [],
   "source": [
    "# Top words similar to \"horrible\"\n",
    "\n"
   ]
  },
  {
   "cell_type": "code",
   "execution_count": null,
   "metadata": {
    "id": "XT04P-yvml52"
   },
   "outputs": [],
   "source": [
    "# example of taking average of a word vectors\n"
   ]
  },
  {
   "cell_type": "markdown",
   "metadata": {
    "id": "U-MmrXiLoNqO"
   },
   "source": [
    "#### Create a Vector Representation for the Text Corpus Using Word2Vec"
   ]
  },
  {
   "cell_type": "code",
   "execution_count": null,
   "metadata": {
    "id": "Sa4wTiscnTbP"
   },
   "outputs": [],
   "source": [
    "# create a vector representation of the text data using the Word2Vec model\n",
    "\n",
    "\n"
   ]
  },
  {
   "cell_type": "code",
   "execution_count": null,
   "metadata": {
    "id": "gZPmeQi1oj7e"
   },
   "outputs": [],
   "source": [
    "# Select the features and Target\n",
    "\n"
   ]
  },
  {
   "cell_type": "code",
   "execution_count": null,
   "metadata": {
    "id": "2_pON8atonBY"
   },
   "outputs": [],
   "source": [
    "# Split the data into training and Test data\n",
    "\n"
   ]
  },
  {
   "cell_type": "code",
   "execution_count": null,
   "metadata": {
    "id": "zM28w3sVoued"
   },
   "outputs": [],
   "source": [
    "# Build a Random Forest Model\n",
    "\n"
   ]
  },
  {
   "cell_type": "markdown",
   "metadata": {
    "id": "SQkzrZUlpJxP"
   },
   "source": [
    "#### Introduction GloVe\n",
    "- Glove link: https://drive.google.com/drive/folders/1_q6s06zw0FOmzOKjDiwKE_reVjQ4pdNI?usp=sharing"
   ]
  },
  {
   "cell_type": "code",
   "execution_count": null,
   "metadata": {
    "id": "F4ddW8AvpMm2"
   },
   "outputs": [],
   "source": [
    "# load the GloVe vectors in a dictionary:\n",
    "emb_path = \"/content/drive/MyDrive/Files/Data/GloVe\"\n",
    "\n",
    "\n"
   ]
  },
  {
   "cell_type": "code",
   "execution_count": null,
   "metadata": {
    "id": "nuORKI2Tp9-L"
   },
   "outputs": [],
   "source": [
    "# function to create a normalized vector for the whole sentence\n",
    "\n"
   ]
  },
  {
   "cell_type": "code",
   "execution_count": null,
   "metadata": {
    "id": "tBuTDPayqDug"
   },
   "outputs": [],
   "source": [
    "# select the features and target\n",
    "\n"
   ]
  },
  {
   "cell_type": "code",
   "execution_count": null,
   "metadata": {
    "id": "68pWVmoPqGm4"
   },
   "outputs": [],
   "source": [
    "# build a random forest model\n",
    "\n"
   ]
  }
 ],
 "metadata": {
  "accelerator": "GPU",
  "colab": {
   "gpuType": "T4",
   "provenance": []
  },
  "kernelspec": {
   "display_name": "Python 3 (ipykernel)",
   "language": "python",
   "name": "python3"
  },
  "language_info": {
   "codemirror_mode": {
    "name": "ipython",
    "version": 3
   },
   "file_extension": ".py",
   "mimetype": "text/x-python",
   "name": "python",
   "nbconvert_exporter": "python",
   "pygments_lexer": "ipython3",
   "version": "3.10.9"
  },
  "toc": {
   "base_numbering": 1,
   "nav_menu": {},
   "number_sections": true,
   "sideBar": true,
   "skip_h1_title": false,
   "title_cell": "Table of Contents",
   "title_sidebar": "Contents",
   "toc_cell": false,
   "toc_position": {},
   "toc_section_display": true,
   "toc_window_display": false
  }
 },
 "nbformat": 4,
 "nbformat_minor": 1
}
